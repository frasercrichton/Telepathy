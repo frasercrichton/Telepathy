{
 "cells": [
  {
   "cell_type": "markdown",
   "metadata": {},
   "source": [
    "# Commonality\n"
   ]
  },
  {
   "cell_type": "markdown",
   "metadata": {},
   "source": [
    "# Common Links\n",
    "\n",
    "Follow the instructions in the [README.md](../README.md) file to run 'comprehensive' Telegram searchs.\n",
    "\n",
    "Once you run these there will be a directory with `telepathy_files` which will contain all the channels you have searched on. \n",
    "\n",
    "For example:\n",
    "\n",
    "`telepathy_files/durov/`\n",
    "\n",
    "In that directory there will be a `.csv` file with your comprehensive search results.\n",
    "\n",
    "To identify any common hyperlinks being shared by two different channels update the cell below with the location of the files you want to compare.\n",
    "\n",
    "When you run the cell it should complete successfully. \n",
    "\n",
    "If it errors then chances are you need to double-check the location and file path of the CSV you are trying to load.  "
   ]
  },
  {
   "cell_type": "code",
   "execution_count": 1,
   "metadata": {},
   "outputs": [],
   "source": [
    "# telegram_file_1 = '../telepathy_files/' # update this with your file!\n",
    "# telegram_file_2 = '../telepathy_files/' # update this with your file!\n",
    "\n",
    "# Example\n",
    "telegram_file_1 = '../telepathy_files/durov/durov_2022_09_25-10_14_archive.csv'\n",
    "telegram_file_2 = '../telepathy_files/telegramtips/telegramtips_2022_09_25-10_39_archive.csv' # update this with your file!\n",
    "\n",
    "import pandas as pd\n",
    "df = pd.read_csv(telegram_file_1, sep=';',  parse_dates=['Timestamp'])\n",
    "df_2 = pd.read_csv(telegram_file_2, sep=';',  parse_dates=['Timestamp'])"
   ]
  },
  {
   "cell_type": "markdown",
   "metadata": {},
   "source": [
    "Get the common links in the two channels by running the following cell.\n",
    "\n",
    "You'll see output with common links and a file with the links here: [../data/processed/links.csv](../data/processed/links.csv)"
   ]
  },
  {
   "cell_type": "code",
   "execution_count": 2,
   "metadata": {},
   "outputs": [
    {
     "data": {
      "text/html": [
       "<div>\n",
       "<style scoped>\n",
       "    .dataframe tbody tr th:only-of-type {\n",
       "        vertical-align: middle;\n",
       "    }\n",
       "\n",
       "    .dataframe tbody tr th {\n",
       "        vertical-align: top;\n",
       "    }\n",
       "\n",
       "    .dataframe thead th {\n",
       "        text-align: right;\n",
       "    }\n",
       "</style>\n",
       "<table border=\"1\" class=\"dataframe\">\n",
       "  <thead>\n",
       "    <tr style=\"text-align: right;\">\n",
       "      <th></th>\n",
       "      <th>0</th>\n",
       "    </tr>\n",
       "  </thead>\n",
       "  <tbody>\n",
       "    <tr>\n",
       "      <th>0</th>\n",
       "      <td>https://web.telegram.org/</td>\n",
       "    </tr>\n",
       "    <tr>\n",
       "      <th>1</th>\n",
       "      <td>https://t.me/TelegramTips/293</td>\n",
       "    </tr>\n",
       "    <tr>\n",
       "      <th>2</th>\n",
       "      <td>https://telegram.org/apps#source-code</td>\n",
       "    </tr>\n",
       "    <tr>\n",
       "      <th>3</th>\n",
       "      <td>https://telegram.org/blog/700-million-and-premium</td>\n",
       "    </tr>\n",
       "    <tr>\n",
       "      <th>4</th>\n",
       "      <td>https://core.telegram.org/reproducible-builds</td>\n",
       "    </tr>\n",
       "  </tbody>\n",
       "</table>\n",
       "</div>"
      ],
      "text/plain": [
       "                                                   0\n",
       "0                          https://web.telegram.org/\n",
       "1                      https://t.me/TelegramTips/293\n",
       "2              https://telegram.org/apps#source-code\n",
       "3  https://telegram.org/blog/700-million-and-premium\n",
       "4      https://core.telegram.org/reproducible-builds"
      ]
     },
     "execution_count": 2,
     "metadata": {},
     "output_type": "execute_result"
    }
   ],
   "source": [
    "import re\n",
    "import numpy as np\n",
    "import sys\n",
    "import markdown \n",
    "from bs4 import BeautifulSoup \n",
    "\n",
    "def find_hyperlinks(text): \n",
    "    html = markdown.markdown(text) # some Telegram channels use markdown!? \n",
    "    soup = BeautifulSoup(html, features='html.parser')\n",
    "    links = set()\n",
    "    for link in soup.find_all('a', href=True):\n",
    "        links.update([link['href']])\n",
    "    return links\n",
    "\n",
    "def get_all_links(df):\n",
    "    links = set() # only interested in unique links here!\n",
    "    [links.update(find_hyperlinks(message_text)) for message_text in df['Message_text']]\n",
    "    return links \n",
    "\n",
    "\n",
    "links = get_all_links(df)\n",
    "links_2 = get_all_links(df_2)\n",
    "\n",
    "shared_links_set = links & links_2\n",
    "shared_links_df = pd.DataFrame(shared_links_set)\n",
    "shared_links_df.to_csv('../data/processed/links.csv', index=False)\n",
    "shared_links_df"
   ]
  },
  {
   "cell_type": "code",
   "execution_count": null,
   "metadata": {},
   "outputs": [],
   "source": []
  }
 ],
 "metadata": {
  "kernelspec": {
   "display_name": "Python 3.9.10 ('env': venv)",
   "language": "python",
   "name": "python3"
  },
  "language_info": {
   "codemirror_mode": {
    "name": "ipython",
    "version": 3
   },
   "file_extension": ".py",
   "mimetype": "text/x-python",
   "name": "python",
   "nbconvert_exporter": "python",
   "pygments_lexer": "ipython3",
   "version": "3.9.10"
  },
  "orig_nbformat": 4,
  "vscode": {
   "interpreter": {
    "hash": "ee66cb2aa043ac5ed5d1eae8a9c44e468a014e1df9ebd4c1173a65e16288e6e2"
   }
  }
 },
 "nbformat": 4,
 "nbformat_minor": 2
}
